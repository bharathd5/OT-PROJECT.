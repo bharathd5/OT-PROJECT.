{
  "nbformat": 4,
  "nbformat_minor": 0,
  "metadata": {
    "colab": {
      "provenance": []
    },
    "kernelspec": {
      "name": "python3",
      "display_name": "Python 3"
    },
    "language_info": {
      "name": "python"
    }
  },
  "cells": [
    {
      "cell_type": "code",
      "execution_count": 1,
      "metadata": {
        "colab": {
          "base_uri": "https://localhost:8080/"
        },
        "id": "UcOVbwEun3iC",
        "outputId": "b679e5ca-e705-430b-aa07-f25e56a81306"
      },
      "outputs": [
        {
          "output_type": "stream",
          "name": "stdout",
          "text": [
            "Collecting pulp\n",
            "  Downloading pulp-3.1.1-py3-none-any.whl.metadata (1.3 kB)\n",
            "Requirement already satisfied: pandas in /usr/local/lib/python3.11/dist-packages (2.2.2)\n",
            "Requirement already satisfied: numpy>=1.23.2 in /usr/local/lib/python3.11/dist-packages (from pandas) (2.0.2)\n",
            "Requirement already satisfied: python-dateutil>=2.8.2 in /usr/local/lib/python3.11/dist-packages (from pandas) (2.8.2)\n",
            "Requirement already satisfied: pytz>=2020.1 in /usr/local/lib/python3.11/dist-packages (from pandas) (2025.2)\n",
            "Requirement already satisfied: tzdata>=2022.7 in /usr/local/lib/python3.11/dist-packages (from pandas) (2025.2)\n",
            "Requirement already satisfied: six>=1.5 in /usr/local/lib/python3.11/dist-packages (from python-dateutil>=2.8.2->pandas) (1.17.0)\n",
            "Downloading pulp-3.1.1-py3-none-any.whl (16.4 MB)\n",
            "\u001b[2K   \u001b[90m━━━━━━━━━━━━━━━━━━━━━━━━━━━━━━━━━━━━━━━━\u001b[0m \u001b[32m16.4/16.4 MB\u001b[0m \u001b[31m30.4 MB/s\u001b[0m eta \u001b[36m0:00:00\u001b[0m\n",
            "\u001b[?25hInstalling collected packages: pulp\n",
            "Successfully installed pulp-3.1.1\n",
            "      Course Teacher Room Timeslot\n",
            "0       Math      T1   R3    D2_T4\n",
            "1    Physics      T1   R1    D2_T3\n",
            "2  Chemistry      T3   R1    D2_T4\n",
            "3    English      T2   R1    D1_T3\n",
            "4    Biology      T1   R1    D1_T2\n"
          ]
        }
      ],
      "source": [
        "\n",
        "from pulp import LpProblem, LpMinimize, LpVariable, lpSum, LpBinary\n",
        "import pandas as pd\n",
        "\n",
        "# Entities\n",
        "courses = [\"Math\", \"Physics\", \"Chemistry\", \"English\", \"Biology\"]\n",
        "teachers = [\"T1\", \"T2\", \"T3\"]\n",
        "rooms = [\"R1\", \"R2\", \"R3\"]\n",
        "timeslots = [\"D1_T1\", \"D1_T2\", \"D1_T3\", \"D1_T4\", \"D1_T5\",\n",
        "             \"D2_T1\", \"D2_T2\", \"D2_T3\", \"D2_T4\", \"D2_T5\"]\n",
        "\n",
        "# Create binary variables: 1 if course c is scheduled in slot s with teacher t and room r\n",
        "x = LpVariable.dicts(\"Schedule\", (courses, teachers, rooms, timeslots), cat=LpBinary)\n",
        "\n",
        "# Create model\n",
        "model = LpProblem(\"Timetable_Optimization\", LpMinimize)\n",
        "\n",
        "# Objective function: Minimize total assignments (you could add weights for preferences)\n",
        "model += lpSum(x[c][t][r][s] for c in courses for t in teachers for r in rooms for s in timeslots)\n",
        "\n",
        "# Constraint 1: Each course must be scheduled exactly once\n",
        "for c in courses:\n",
        "    model += lpSum(x[c][t][r][s] for t in teachers for r in rooms for s in timeslots) == 1\n",
        "\n",
        "# Constraint 2: A teacher can’t be in two places at the same time\n",
        "for t in teachers:\n",
        "    for s in timeslots:\n",
        "        model += lpSum(x[c][t][r][s] for c in courses for r in rooms) <= 1\n",
        "\n",
        "# Constraint 3: A room can’t be used by more than one course at a time\n",
        "for r in rooms:\n",
        "    for s in timeslots:\n",
        "        model += lpSum(x[c][t][r][s] for c in courses for t in teachers) <= 1\n",
        "\n",
        "# Constraint 4: Optional — Teacher T3 not available on D1_T1 and D2_T5\n",
        "for s in [\"D1_T1\", \"D2_T5\"]:\n",
        "    for c in courses:\n",
        "        for r in rooms:\n",
        "            model += x[c][\"T3\"][r][s] == 0\n",
        "\n",
        "# Solve the problem\n",
        "model.solve()\n",
        "\n",
        "# Extract results\n",
        "schedule = []\n",
        "for c in courses:\n",
        "    for t in teachers:\n",
        "        for r in rooms:\n",
        "            for s in timeslots:\n",
        "                if x[c][t][r][s].varValue == 1:\n",
        "                    schedule.append([c, t, r, s])\n",
        "\n",
        "# Create DataFrame\n",
        "df_schedule = pd.DataFrame(schedule, columns=[\"Course\", \"Teacher\", \"Room\", \"Timeslot\"])\n",
        "df_schedule.to_csv(\"timetable_output.csv\", index=False)\n",
        "\n",
        "print(df_schedule)\n"
      ]
    }
  ]
}